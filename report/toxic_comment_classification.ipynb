{
 "cells": [
  {
   "cell_type": "markdown",
   "metadata": {},
   "source": [
    "# Predict toxic comments\n",
    "\n",
    "by Bill Wan, Tom Tsang\\\n",
    "2023/12/02"
   ]
  },
  {
   "cell_type": "code",
   "execution_count": 5,
   "metadata": {
    "tags": [
     "hide-input",
     "remove-cell"
    ]
   },
   "outputs": [],
   "source": [
    "import pandas as pd\n",
    "from myst_nb import glue\n",
    "import os"
   ]
  },
  {
   "cell_type": "markdown",
   "metadata": {},
   "source": [
    "## Introduction\n",
    "\n",
    "The digital age, accelerated by the ongoing pandemic, has led to an increase in online activity. A significant 84% of young Canadians are now actively using social media platforms like Facebook for communication. However, this increased online presence has also led to a rise in the propagation of extreme ideologies and hate speech.\n",
    "\n",
    "This project aims to mitigate the impact of such toxic behavior by detecting and reporting harmful comments on social media. While the industry has seen a trend towards using neural networks for such tasks, with an estimated market size of US$ 26.4 billion by 2024, these models often lack interpretability. [1]\n",
    "\n",
    "In contrast, this project will utilize a decision tree model, which is known for its interpretability and ease of understanding. Decision trees provide a clear visualization of the decision-making process, making it easier to understand why a particular prediction was made. This transparency is particularly beneficial in areas like toxic comment classification, where understanding the reasoning behind a prediction can provide valuable insights.\n",
    "\n",
    "By employing a decision tree model, this project aims to create a balance between effective detection of toxic comments and interpretability of the model. This approach will not only contribute to a safer online environment but also promote healthier and more respectful interactions in the digital world."
   ]
  },
  {
   "cell_type": "markdown",
   "metadata": {},
   "source": [
    "## Method"
   ]
  },
  {
   "cell_type": "markdown",
   "metadata": {},
   "source": [
    "### Data\n",
    "\n",
    "The dataset utilized in this project is sourced from Kaggle's Toxic Comment Classification Challenge 2018 (https://www.kaggle.com/c/jigsaw-toxic-comment-classification-challenge). It comprises a substantial number of Wikipedia comments that have been manually labeled by human raters to identify toxic behavior. The comments are categorized into six groups: toxic, severe toxic, obscene, threat, insult, and identity hate.\n",
    "\n",
    "Upon initial examination of the data, a predominant observation is that the majority of comments are clean, i.e., they have target values of all 0. Additionally, certain classes exhibit an insufficient number of comments. For instance, while there are over 15,000 comments labeled as toxic, there are fewer than 500 labeled as threats. The low volume of comments in specific classes poses a challenge, as it can lead models to overfit and yield lower accuracy for the validation and test sets.\n",
    "\n",
    "This imbalance in class distribution moght  impact the performance of machine learning models, particularly in cases with limited samples for certain classes e.g. overfitting problem, or failure to detect the threat comments."
   ]
  },
  {
   "cell_type": "markdown",
   "metadata": {},
   "source": [
    "<iframe src=\"../results/figures/class_distribution.html\" width=\"600\" height=\"420\"></iframe>"
   ]
  },
  {
   "cell_type": "markdown",
   "metadata": {},
   "source": [
    "### Analysis\n",
    "We employed a combination of Decision Tree, LightGBM, and Neural Network models in our analysis. We chose these models due to their diverse complexity levels and interpretability, aiming to identify the optimal model that strikes a balance between the two. Feature engineering techniques, including extracting comment length and sentiment scores, were implemented to enhance accuracy. Additionally, we conducted feature preprocessing, such as scaling for numeric features and using count vectorization for the comment text.\n",
    "\n",
    "Recognizing the highly skewed nature of the data, we addressed the imbalance through Data Augmentation. We utilized the nlpaug package to artificially increase the data volume in minority classes by substituting and swapping synonyms [2]. The augmented comments retained the same target labels as the original ones. The class distribution is visualized in the graph below.\n",
    "\n",
    "Given the ample size of the dataset, we opted for a train-validation split rather than cross-validation, allocating 80% to the training set and 20% to the validation set. We ensured that the validation set comprehensively covered every target class.\n",
    "\n",
    "This analysis was conducted using Python."
   ]
  },
  {
   "cell_type": "markdown",
   "metadata": {},
   "source": [
    "<iframe src=\"../results/figures/augmented_class_distribution.html\" width=\"600\" height=\"420\"></iframe>"
   ]
  },
  {
   "cell_type": "markdown",
   "metadata": {},
   "source": [
    "The chart below shows the roc-auc score and the f1 score of the model. In this case, we are particularly concerned about the f1 score, since our models aim to find out the comments that are toxic (or other target classes). But of course, we would not hope to get too much false positives as well.\n",
    "\n",
    "After comparing the models performance, given that the model fitting time, and the model performance (in the table below), we believe the decision tree gives us an acceptable model. "
   ]
  },
  {
   "cell_type": "code",
   "execution_count": 4,
   "metadata": {
    "tags": [
     "hide-input",
     "remove-cell"
    ]
   },
   "outputs": [
    {
     "data": {
      "text/html": [
       "<div>\n",
       "<style scoped>\n",
       "    .dataframe tbody tr th:only-of-type {\n",
       "        vertical-align: middle;\n",
       "    }\n",
       "\n",
       "    .dataframe tbody tr th {\n",
       "        vertical-align: top;\n",
       "    }\n",
       "\n",
       "    .dataframe thead th {\n",
       "        text-align: right;\n",
       "    }\n",
       "</style>\n",
       "<table border=\"1\" class=\"dataframe\">\n",
       "  <thead>\n",
       "    <tr style=\"text-align: right;\">\n",
       "      <th></th>\n",
       "      <th>model</th>\n",
       "      <th>label</th>\n",
       "      <th>val_roc_auc</th>\n",
       "      <th>val_f1</th>\n",
       "    </tr>\n",
       "  </thead>\n",
       "  <tbody>\n",
       "    <tr>\n",
       "      <th>0</th>\n",
       "      <td>decision_tree</td>\n",
       "      <td>toxic</td>\n",
       "      <td>0.892512</td>\n",
       "      <td>0.873373</td>\n",
       "    </tr>\n",
       "    <tr>\n",
       "      <th>1</th>\n",
       "      <td>decision_tree</td>\n",
       "      <td>severe_toxic</td>\n",
       "      <td>0.922888</td>\n",
       "      <td>0.768508</td>\n",
       "    </tr>\n",
       "    <tr>\n",
       "      <th>2</th>\n",
       "      <td>decision_tree</td>\n",
       "      <td>obscene</td>\n",
       "      <td>0.934865</td>\n",
       "      <td>0.908407</td>\n",
       "    </tr>\n",
       "    <tr>\n",
       "      <th>3</th>\n",
       "      <td>decision_tree</td>\n",
       "      <td>threat</td>\n",
       "      <td>0.921289</td>\n",
       "      <td>0.756894</td>\n",
       "    </tr>\n",
       "    <tr>\n",
       "      <th>4</th>\n",
       "      <td>decision_tree</td>\n",
       "      <td>insult</td>\n",
       "      <td>0.912911</td>\n",
       "      <td>0.871493</td>\n",
       "    </tr>\n",
       "    <tr>\n",
       "      <th>5</th>\n",
       "      <td>decision_tree</td>\n",
       "      <td>identity_hate</td>\n",
       "      <td>0.923639</td>\n",
       "      <td>0.781373</td>\n",
       "    </tr>\n",
       "    <tr>\n",
       "      <th>6</th>\n",
       "      <td>lightgbm</td>\n",
       "      <td>toxic</td>\n",
       "      <td>0.885844</td>\n",
       "      <td>0.866789</td>\n",
       "    </tr>\n",
       "    <tr>\n",
       "      <th>7</th>\n",
       "      <td>lightgbm</td>\n",
       "      <td>severe_toxic</td>\n",
       "      <td>0.886573</td>\n",
       "      <td>0.528753</td>\n",
       "    </tr>\n",
       "    <tr>\n",
       "      <th>8</th>\n",
       "      <td>lightgbm</td>\n",
       "      <td>obscene</td>\n",
       "      <td>0.900282</td>\n",
       "      <td>0.862038</td>\n",
       "    </tr>\n",
       "    <tr>\n",
       "      <th>9</th>\n",
       "      <td>lightgbm</td>\n",
       "      <td>threat</td>\n",
       "      <td>0.932733</td>\n",
       "      <td>0.433740</td>\n",
       "    </tr>\n",
       "    <tr>\n",
       "      <th>10</th>\n",
       "      <td>lightgbm</td>\n",
       "      <td>insult</td>\n",
       "      <td>0.870952</td>\n",
       "      <td>0.804249</td>\n",
       "    </tr>\n",
       "    <tr>\n",
       "      <th>11</th>\n",
       "      <td>lightgbm</td>\n",
       "      <td>identity_hate</td>\n",
       "      <td>0.885294</td>\n",
       "      <td>0.519592</td>\n",
       "    </tr>\n",
       "    <tr>\n",
       "      <th>12</th>\n",
       "      <td>neural_network</td>\n",
       "      <td>toxic</td>\n",
       "      <td>0.941872</td>\n",
       "      <td>0.929581</td>\n",
       "    </tr>\n",
       "    <tr>\n",
       "      <th>13</th>\n",
       "      <td>neural_network</td>\n",
       "      <td>severe_toxic</td>\n",
       "      <td>0.909485</td>\n",
       "      <td>0.863417</td>\n",
       "    </tr>\n",
       "    <tr>\n",
       "      <th>14</th>\n",
       "      <td>neural_network</td>\n",
       "      <td>obscene</td>\n",
       "      <td>0.950231</td>\n",
       "      <td>0.936942</td>\n",
       "    </tr>\n",
       "    <tr>\n",
       "      <th>15</th>\n",
       "      <td>neural_network</td>\n",
       "      <td>threat</td>\n",
       "      <td>0.921278</td>\n",
       "      <td>0.873643</td>\n",
       "    </tr>\n",
       "    <tr>\n",
       "      <th>16</th>\n",
       "      <td>neural_network</td>\n",
       "      <td>insult</td>\n",
       "      <td>0.938843</td>\n",
       "      <td>0.915142</td>\n",
       "    </tr>\n",
       "    <tr>\n",
       "      <th>17</th>\n",
       "      <td>neural_network</td>\n",
       "      <td>identity_hate</td>\n",
       "      <td>0.916458</td>\n",
       "      <td>0.880343</td>\n",
       "    </tr>\n",
       "  </tbody>\n",
       "</table>\n",
       "</div>"
      ],
      "text/plain": [
       "             model          label  val_roc_auc    val_f1\n",
       "0    decision_tree          toxic     0.892512  0.873373\n",
       "1    decision_tree   severe_toxic     0.922888  0.768508\n",
       "2    decision_tree        obscene     0.934865  0.908407\n",
       "3    decision_tree         threat     0.921289  0.756894\n",
       "4    decision_tree         insult     0.912911  0.871493\n",
       "5    decision_tree  identity_hate     0.923639  0.781373\n",
       "6         lightgbm          toxic     0.885844  0.866789\n",
       "7         lightgbm   severe_toxic     0.886573  0.528753\n",
       "8         lightgbm        obscene     0.900282  0.862038\n",
       "9         lightgbm         threat     0.932733  0.433740\n",
       "10        lightgbm         insult     0.870952  0.804249\n",
       "11        lightgbm  identity_hate     0.885294  0.519592\n",
       "12  neural_network          toxic     0.941872  0.929581\n",
       "13  neural_network   severe_toxic     0.909485  0.863417\n",
       "14  neural_network        obscene     0.950231  0.936942\n",
       "15  neural_network         threat     0.921278  0.873643\n",
       "16  neural_network         insult     0.938843  0.915142\n",
       "17  neural_network  identity_hate     0.916458  0.880343"
      ]
     },
     "metadata": {
      "scrapbook": {
       "mime_prefix": "",
       "name": "Validation Results"
      }
     },
     "output_type": "display_data"
    }
   ],
   "source": [
    "validation_score = pd.read_csv('../results/tables/validation_result.csv')\n",
    "glue(\"Validation Results\", validation_score)"
   ]
  },
  {
   "cell_type": "markdown",
   "metadata": {},
   "source": [
    "In addition, advantageous to the best performing model, the neural network, it allows us to understand why our model will make such prediction, which would be helpful, in cases when we need to explain to someone that why we consider their comments are toxic.\n",
    "\n",
    "To achieve that, we used the feature importance of the decision tree to show the top 10 features that contribute to the prediction for each class. Note that there are inappropriate language in the graph, so that we did not show it here. But it the graphs are in the github repository."
   ]
  },
  {
   "cell_type": "markdown",
   "metadata": {},
   "source": [
    "### Evaluation of the model"
   ]
  },
  {
   "cell_type": "code",
   "execution_count": 11,
   "metadata": {
    "tags": [
     "hide-input",
     "remove-cell"
    ]
   },
   "outputs": [
    {
     "name": "stdout",
     "output_type": "stream",
     "text": [
      "Scores for toxic class:\n"
     ]
    },
    {
     "data": {
      "text/html": [
       "<div>\n",
       "<style scoped>\n",
       "    .dataframe tbody tr th:only-of-type {\n",
       "        vertical-align: middle;\n",
       "    }\n",
       "\n",
       "    .dataframe tbody tr th {\n",
       "        vertical-align: top;\n",
       "    }\n",
       "\n",
       "    .dataframe thead th {\n",
       "        text-align: right;\n",
       "    }\n",
       "</style>\n",
       "<table border=\"1\" class=\"dataframe\">\n",
       "  <thead>\n",
       "    <tr style=\"text-align: right;\">\n",
       "      <th></th>\n",
       "      <th>ROC-AUC</th>\n",
       "      <th>F1 Score</th>\n",
       "    </tr>\n",
       "  </thead>\n",
       "  <tbody>\n",
       "    <tr>\n",
       "      <th>0</th>\n",
       "      <td>0.794911</td>\n",
       "      <td>0.461141</td>\n",
       "    </tr>\n",
       "  </tbody>\n",
       "</table>\n",
       "</div>"
      ],
      "text/plain": [
       "    ROC-AUC  F1 Score\n",
       "0  0.794911  0.461141"
      ]
     },
     "metadata": {
      "scrapbook": {
       "mime_prefix": "",
       "name": "toxic_scores"
      }
     },
     "output_type": "display_data"
    },
    {
     "name": "stdout",
     "output_type": "stream",
     "text": [
      "Confusion Matrix for toxic class:\n"
     ]
    },
    {
     "data": {
      "text/html": [
       "<div>\n",
       "<style scoped>\n",
       "    .dataframe tbody tr th:only-of-type {\n",
       "        vertical-align: middle;\n",
       "    }\n",
       "\n",
       "    .dataframe tbody tr th {\n",
       "        vertical-align: top;\n",
       "    }\n",
       "\n",
       "    .dataframe thead th {\n",
       "        text-align: right;\n",
       "    }\n",
       "</style>\n",
       "<table border=\"1\" class=\"dataframe\">\n",
       "  <thead>\n",
       "    <tr style=\"text-align: right;\">\n",
       "      <th></th>\n",
       "      <th>0</th>\n",
       "      <th>1</th>\n",
       "    </tr>\n",
       "  </thead>\n",
       "  <tbody>\n",
       "    <tr>\n",
       "      <th>0</th>\n",
       "      <td>48801</td>\n",
       "      <td>9087</td>\n",
       "    </tr>\n",
       "    <tr>\n",
       "      <th>1</th>\n",
       "      <td>1542</td>\n",
       "      <td>4548</td>\n",
       "    </tr>\n",
       "  </tbody>\n",
       "</table>\n",
       "</div>"
      ],
      "text/plain": [
       "       0     1\n",
       "0  48801  9087\n",
       "1   1542  4548"
      ]
     },
     "metadata": {
      "scrapbook": {
       "mime_prefix": "",
       "name": "toxic_cm"
      }
     },
     "output_type": "display_data"
    },
    {
     "name": "stdout",
     "output_type": "stream",
     "text": [
      "Scores for severe_toxic class:\n"
     ]
    },
    {
     "data": {
      "text/html": [
       "<div>\n",
       "<style scoped>\n",
       "    .dataframe tbody tr th:only-of-type {\n",
       "        vertical-align: middle;\n",
       "    }\n",
       "\n",
       "    .dataframe tbody tr th {\n",
       "        vertical-align: top;\n",
       "    }\n",
       "\n",
       "    .dataframe thead th {\n",
       "        text-align: right;\n",
       "    }\n",
       "</style>\n",
       "<table border=\"1\" class=\"dataframe\">\n",
       "  <thead>\n",
       "    <tr style=\"text-align: right;\">\n",
       "      <th></th>\n",
       "      <th>ROC-AUC</th>\n",
       "      <th>F1 Score</th>\n",
       "    </tr>\n",
       "  </thead>\n",
       "  <tbody>\n",
       "    <tr>\n",
       "      <th>0</th>\n",
       "      <td>0.676766</td>\n",
       "      <td>0.171393</td>\n",
       "    </tr>\n",
       "  </tbody>\n",
       "</table>\n",
       "</div>"
      ],
      "text/plain": [
       "    ROC-AUC  F1 Score\n",
       "0  0.676766  0.171393"
      ]
     },
     "metadata": {
      "scrapbook": {
       "mime_prefix": "",
       "name": "severe_toxic_scores"
      }
     },
     "output_type": "display_data"
    },
    {
     "name": "stdout",
     "output_type": "stream",
     "text": [
      "Confusion Matrix for severe_toxic class:\n"
     ]
    },
    {
     "data": {
      "text/html": [
       "<div>\n",
       "<style scoped>\n",
       "    .dataframe tbody tr th:only-of-type {\n",
       "        vertical-align: middle;\n",
       "    }\n",
       "\n",
       "    .dataframe tbody tr th {\n",
       "        vertical-align: top;\n",
       "    }\n",
       "\n",
       "    .dataframe thead th {\n",
       "        text-align: right;\n",
       "    }\n",
       "</style>\n",
       "<table border=\"1\" class=\"dataframe\">\n",
       "  <thead>\n",
       "    <tr style=\"text-align: right;\">\n",
       "      <th></th>\n",
       "      <th>0</th>\n",
       "      <th>1</th>\n",
       "    </tr>\n",
       "  </thead>\n",
       "  <tbody>\n",
       "    <tr>\n",
       "      <th>0</th>\n",
       "      <td>62527</td>\n",
       "      <td>1084</td>\n",
       "    </tr>\n",
       "    <tr>\n",
       "      <th>1</th>\n",
       "      <td>231</td>\n",
       "      <td>136</td>\n",
       "    </tr>\n",
       "  </tbody>\n",
       "</table>\n",
       "</div>"
      ],
      "text/plain": [
       "       0     1\n",
       "0  62527  1084\n",
       "1    231   136"
      ]
     },
     "metadata": {
      "scrapbook": {
       "mime_prefix": "",
       "name": "severe_toxic_cm"
      }
     },
     "output_type": "display_data"
    },
    {
     "name": "stdout",
     "output_type": "stream",
     "text": [
      "Scores for obscene class:\n"
     ]
    },
    {
     "data": {
      "text/html": [
       "<div>\n",
       "<style scoped>\n",
       "    .dataframe tbody tr th:only-of-type {\n",
       "        vertical-align: middle;\n",
       "    }\n",
       "\n",
       "    .dataframe tbody tr th {\n",
       "        vertical-align: top;\n",
       "    }\n",
       "\n",
       "    .dataframe thead th {\n",
       "        text-align: right;\n",
       "    }\n",
       "</style>\n",
       "<table border=\"1\" class=\"dataframe\">\n",
       "  <thead>\n",
       "    <tr style=\"text-align: right;\">\n",
       "      <th></th>\n",
       "      <th>ROC-AUC</th>\n",
       "      <th>F1 Score</th>\n",
       "    </tr>\n",
       "  </thead>\n",
       "  <tbody>\n",
       "    <tr>\n",
       "      <th>0</th>\n",
       "      <td>0.825093</td>\n",
       "      <td>0.489632</td>\n",
       "    </tr>\n",
       "  </tbody>\n",
       "</table>\n",
       "</div>"
      ],
      "text/plain": [
       "    ROC-AUC  F1 Score\n",
       "0  0.825093  0.489632"
      ]
     },
     "metadata": {
      "scrapbook": {
       "mime_prefix": "",
       "name": "obscene_scores"
      }
     },
     "output_type": "display_data"
    },
    {
     "name": "stdout",
     "output_type": "stream",
     "text": [
      "Confusion Matrix for obscene class:\n"
     ]
    },
    {
     "data": {
      "text/html": [
       "<div>\n",
       "<style scoped>\n",
       "    .dataframe tbody tr th:only-of-type {\n",
       "        vertical-align: middle;\n",
       "    }\n",
       "\n",
       "    .dataframe tbody tr th {\n",
       "        vertical-align: top;\n",
       "    }\n",
       "\n",
       "    .dataframe thead th {\n",
       "        text-align: right;\n",
       "    }\n",
       "</style>\n",
       "<table border=\"1\" class=\"dataframe\">\n",
       "  <thead>\n",
       "    <tr style=\"text-align: right;\">\n",
       "      <th></th>\n",
       "      <th>0</th>\n",
       "      <th>1</th>\n",
       "    </tr>\n",
       "  </thead>\n",
       "  <tbody>\n",
       "    <tr>\n",
       "      <th>0</th>\n",
       "      <td>55711</td>\n",
       "      <td>4576</td>\n",
       "    </tr>\n",
       "    <tr>\n",
       "      <th>1</th>\n",
       "      <td>1011</td>\n",
       "      <td>2680</td>\n",
       "    </tr>\n",
       "  </tbody>\n",
       "</table>\n",
       "</div>"
      ],
      "text/plain": [
       "       0     1\n",
       "0  55711  4576\n",
       "1   1011  2680"
      ]
     },
     "metadata": {
      "scrapbook": {
       "mime_prefix": "",
       "name": "obscene_cm"
      }
     },
     "output_type": "display_data"
    },
    {
     "name": "stdout",
     "output_type": "stream",
     "text": [
      "Scores for threat class:\n"
     ]
    },
    {
     "data": {
      "text/html": [
       "<div>\n",
       "<style scoped>\n",
       "    .dataframe tbody tr th:only-of-type {\n",
       "        vertical-align: middle;\n",
       "    }\n",
       "\n",
       "    .dataframe tbody tr th {\n",
       "        vertical-align: top;\n",
       "    }\n",
       "\n",
       "    .dataframe thead th {\n",
       "        text-align: right;\n",
       "    }\n",
       "</style>\n",
       "<table border=\"1\" class=\"dataframe\">\n",
       "  <thead>\n",
       "    <tr style=\"text-align: right;\">\n",
       "      <th></th>\n",
       "      <th>ROC-AUC</th>\n",
       "      <th>F1 Score</th>\n",
       "    </tr>\n",
       "  </thead>\n",
       "  <tbody>\n",
       "    <tr>\n",
       "      <th>0</th>\n",
       "      <td>0.667213</td>\n",
       "      <td>0.200837</td>\n",
       "    </tr>\n",
       "  </tbody>\n",
       "</table>\n",
       "</div>"
      ],
      "text/plain": [
       "    ROC-AUC  F1 Score\n",
       "0  0.667213  0.200837"
      ]
     },
     "metadata": {
      "scrapbook": {
       "mime_prefix": "",
       "name": "threat_scores"
      }
     },
     "output_type": "display_data"
    },
    {
     "name": "stdout",
     "output_type": "stream",
     "text": [
      "Confusion Matrix for threat class:\n"
     ]
    },
    {
     "data": {
      "text/html": [
       "<div>\n",
       "<style scoped>\n",
       "    .dataframe tbody tr th:only-of-type {\n",
       "        vertical-align: middle;\n",
       "    }\n",
       "\n",
       "    .dataframe tbody tr th {\n",
       "        vertical-align: top;\n",
       "    }\n",
       "\n",
       "    .dataframe thead th {\n",
       "        text-align: right;\n",
       "    }\n",
       "</style>\n",
       "<table border=\"1\" class=\"dataframe\">\n",
       "  <thead>\n",
       "    <tr style=\"text-align: right;\">\n",
       "      <th></th>\n",
       "      <th>0</th>\n",
       "      <th>1</th>\n",
       "    </tr>\n",
       "  </thead>\n",
       "  <tbody>\n",
       "    <tr>\n",
       "      <th>0</th>\n",
       "      <td>63333</td>\n",
       "      <td>434</td>\n",
       "    </tr>\n",
       "    <tr>\n",
       "      <th>1</th>\n",
       "      <td>139</td>\n",
       "      <td>72</td>\n",
       "    </tr>\n",
       "  </tbody>\n",
       "</table>\n",
       "</div>"
      ],
      "text/plain": [
       "       0    1\n",
       "0  63333  434\n",
       "1    139   72"
      ]
     },
     "metadata": {
      "scrapbook": {
       "mime_prefix": "",
       "name": "threat_cm"
      }
     },
     "output_type": "display_data"
    },
    {
     "name": "stdout",
     "output_type": "stream",
     "text": [
      "Scores for insult class:\n"
     ]
    },
    {
     "data": {
      "text/html": [
       "<div>\n",
       "<style scoped>\n",
       "    .dataframe tbody tr th:only-of-type {\n",
       "        vertical-align: middle;\n",
       "    }\n",
       "\n",
       "    .dataframe tbody tr th {\n",
       "        vertical-align: top;\n",
       "    }\n",
       "\n",
       "    .dataframe thead th {\n",
       "        text-align: right;\n",
       "    }\n",
       "</style>\n",
       "<table border=\"1\" class=\"dataframe\">\n",
       "  <thead>\n",
       "    <tr style=\"text-align: right;\">\n",
       "      <th></th>\n",
       "      <th>ROC-AUC</th>\n",
       "      <th>F1 Score</th>\n",
       "    </tr>\n",
       "  </thead>\n",
       "  <tbody>\n",
       "    <tr>\n",
       "      <th>0</th>\n",
       "      <td>0.773075</td>\n",
       "      <td>0.409719</td>\n",
       "    </tr>\n",
       "  </tbody>\n",
       "</table>\n",
       "</div>"
      ],
      "text/plain": [
       "    ROC-AUC  F1 Score\n",
       "0  0.773075  0.409719"
      ]
     },
     "metadata": {
      "scrapbook": {
       "mime_prefix": "",
       "name": "insult_scores"
      }
     },
     "output_type": "display_data"
    },
    {
     "name": "stdout",
     "output_type": "stream",
     "text": [
      "Confusion Matrix for insult class:\n"
     ]
    },
    {
     "data": {
      "text/html": [
       "<div>\n",
       "<style scoped>\n",
       "    .dataframe tbody tr th:only-of-type {\n",
       "        vertical-align: middle;\n",
       "    }\n",
       "\n",
       "    .dataframe tbody tr th {\n",
       "        vertical-align: top;\n",
       "    }\n",
       "\n",
       "    .dataframe thead th {\n",
       "        text-align: right;\n",
       "    }\n",
       "</style>\n",
       "<table border=\"1\" class=\"dataframe\">\n",
       "  <thead>\n",
       "    <tr style=\"text-align: right;\">\n",
       "      <th></th>\n",
       "      <th>0</th>\n",
       "      <th>1</th>\n",
       "    </tr>\n",
       "  </thead>\n",
       "  <tbody>\n",
       "    <tr>\n",
       "      <th>0</th>\n",
       "      <td>55633</td>\n",
       "      <td>4918</td>\n",
       "    </tr>\n",
       "    <tr>\n",
       "      <th>1</th>\n",
       "      <td>1277</td>\n",
       "      <td>2150</td>\n",
       "    </tr>\n",
       "  </tbody>\n",
       "</table>\n",
       "</div>"
      ],
      "text/plain": [
       "       0     1\n",
       "0  55633  4918\n",
       "1   1277  2150"
      ]
     },
     "metadata": {
      "scrapbook": {
       "mime_prefix": "",
       "name": "insult_cm"
      }
     },
     "output_type": "display_data"
    },
    {
     "name": "stdout",
     "output_type": "stream",
     "text": [
      "Scores for identity_hate class:\n"
     ]
    },
    {
     "data": {
      "text/html": [
       "<div>\n",
       "<style scoped>\n",
       "    .dataframe tbody tr th:only-of-type {\n",
       "        vertical-align: middle;\n",
       "    }\n",
       "\n",
       "    .dataframe tbody tr th {\n",
       "        vertical-align: top;\n",
       "    }\n",
       "\n",
       "    .dataframe thead th {\n",
       "        text-align: right;\n",
       "    }\n",
       "</style>\n",
       "<table border=\"1\" class=\"dataframe\">\n",
       "  <thead>\n",
       "    <tr style=\"text-align: right;\">\n",
       "      <th></th>\n",
       "      <th>ROC-AUC</th>\n",
       "      <th>F1 Score</th>\n",
       "    </tr>\n",
       "  </thead>\n",
       "  <tbody>\n",
       "    <tr>\n",
       "      <th>0</th>\n",
       "      <td>0.698036</td>\n",
       "      <td>0.283784</td>\n",
       "    </tr>\n",
       "  </tbody>\n",
       "</table>\n",
       "</div>"
      ],
      "text/plain": [
       "    ROC-AUC  F1 Score\n",
       "0  0.698036  0.283784"
      ]
     },
     "metadata": {
      "scrapbook": {
       "mime_prefix": "",
       "name": "identity_hate_scores"
      }
     },
     "output_type": "display_data"
    },
    {
     "name": "stdout",
     "output_type": "stream",
     "text": [
      "Confusion Matrix for identity_hate class:\n"
     ]
    },
    {
     "data": {
      "text/html": [
       "<div>\n",
       "<style scoped>\n",
       "    .dataframe tbody tr th:only-of-type {\n",
       "        vertical-align: middle;\n",
       "    }\n",
       "\n",
       "    .dataframe tbody tr th {\n",
       "        vertical-align: top;\n",
       "    }\n",
       "\n",
       "    .dataframe thead th {\n",
       "        text-align: right;\n",
       "    }\n",
       "</style>\n",
       "<table border=\"1\" class=\"dataframe\">\n",
       "  <thead>\n",
       "    <tr style=\"text-align: right;\">\n",
       "      <th></th>\n",
       "      <th>0</th>\n",
       "      <th>1</th>\n",
       "    </tr>\n",
       "  </thead>\n",
       "  <tbody>\n",
       "    <tr>\n",
       "      <th>0</th>\n",
       "      <td>62200</td>\n",
       "      <td>1066</td>\n",
       "    </tr>\n",
       "    <tr>\n",
       "      <th>1</th>\n",
       "      <td>418</td>\n",
       "      <td>294</td>\n",
       "    </tr>\n",
       "  </tbody>\n",
       "</table>\n",
       "</div>"
      ],
      "text/plain": [
       "       0     1\n",
       "0  62200  1066\n",
       "1    418   294"
      ]
     },
     "metadata": {
      "scrapbook": {
       "mime_prefix": "",
       "name": "identity_hate_cm"
      }
     },
     "output_type": "display_data"
    }
   ],
   "source": [
    "dir = '../results/tables'\n",
    "labels = ['toxic', 'severe_toxic', 'obscene', 'threat', 'insult', 'identity_hate']\n",
    "for class_name in labels:\n",
    "    scores_file = os.path.join(dir, f'{class_name}_test_scores.csv')\n",
    "    cm_file = os.path.join(dir, f'{class_name}_test_confusion_matrix.csv')\n",
    "    scores_df = pd.read_csv(scores_file)\n",
    "    cm_df = pd.read_csv(cm_file)\n",
    "\n",
    "    print(f'Scores for {class_name} class:')\n",
    "    glue(f'{class_name}_scores', scores_df)\n",
    "    print(f'Confusion Matrix for {class_name} class:')\n",
    "    glue(f'{class_name}_cm', cm_df)"
   ]
  },
  {
   "cell_type": "markdown",
   "metadata": {},
   "source": [
    "We used our Decision Tree model to predict the test data. The ROC-AUC score was reasonable and acceptable. However the F1 score, especially for less common classes like 'threat', wa notably low. Despite our efforts to augment the data, the inherent complexity of text data poses challenges, particularly when dealing with limited training data. While the model performs reasonably well in identifying toxic comments, the difficulties arise in capturing the nuanced relations within the dataset.\n",
    "\n",
    "### Discussion and Learnings:\n",
    "\n",
    "Classifying comments is hard because they don't follow a strict pattern, and there are so many different words. It's even tougher when there are only a few comments for certain categories. e have explored various strategies such as feature engineering and data augmentation to address this issue, but it's still hard to catch all the different types of comments.\n",
    "\n",
    "So, it might be a good idea to explore the integration of pre-trained models like GloVe embeddings. Leveraging such embeddings could enhance our model's understanding of each word and potentially improve its performance in handling the intricacies of diverse comments."
   ]
  },
  {
   "cell_type": "markdown",
   "metadata": {},
   "source": [
    "## Reference\n",
    "\n",
    "1. https://openreview.net/pdf?id=Lp-QFq2QRXA\n",
    "2. https://github.com/makcedward/nlpaug\n"
   ]
  },
  {
   "cell_type": "markdown",
   "metadata": {},
   "source": []
  }
 ],
 "metadata": {
  "kernelspec": {
   "display_name": "comment_env",
   "language": "python",
   "name": "python3"
  },
  "language_info": {
   "codemirror_mode": {
    "name": "ipython",
    "version": 3
   },
   "file_extension": ".py",
   "mimetype": "text/x-python",
   "name": "python",
   "nbconvert_exporter": "python",
   "pygments_lexer": "ipython3",
   "version": "3.11.7"
  }
 },
 "nbformat": 4,
 "nbformat_minor": 2
}
